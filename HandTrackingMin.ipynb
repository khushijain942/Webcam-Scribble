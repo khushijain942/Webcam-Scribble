{
 "cells": [
  {
   "cell_type": "code",
   "execution_count": null,
   "id": "67e2148b",
   "metadata": {},
   "outputs": [],
   "source": [
    "import cv2\n",
    "import mediapipe as mp\n",
    "import time\n",
    "cap=cv2.VideoCapture(0)\n",
    "mpHands=mp.solutions.hands\n",
    "hands=mpHands.Hands(static_image_mode=False,max_num_hands=2,min_detection_confidence=0.5,min_tracking_confidence=0.5) #declaring object hands from mp.solutions.hands\n",
    "mpDraw=mp.solutions.drawing_utils\n",
    "pTime=0\n",
    "cTime=0\n",
    "\n",
    "while True:\n",
    "    success,img=cap.read()\n",
    "    imgRGB=cv2.cvtColor(img,cv2.COLOR_BGR2RGB)  #converting because hands object only uses RGB images\n",
    "    results=hands.process(imgRGB)\n",
    "    if results.multi_hand_landmarks:\n",
    "        for handLms in  results.multi_hand_landmarks:\n",
    "            for id,lm in enumerate(handLms.landmark):\n",
    "                #print(id,lm)\n",
    "                h,w,c=img.shape\n",
    "                cx,cy=int(lm.x*w),int(lm.y*h)\n",
    "                print(id,cx,cy)\n",
    "                if id==0:\n",
    "                    cv2.circle(img,(cx,cy),25,(135,81,203),cv2.FILLED)\n",
    "            mpDraw.draw_landmarks(img,handLms,mpHands.HAND_CONNECTIONS)   #for drawing connections\n",
    "    cTime=time.time()\n",
    "    fps=1/(cTime-pTime)\n",
    "    pTime=cTime\n",
    "    cv2.putText(img,str(int(fps)),(10,70),cv2.FONT_HERSHEY_PLAIN,3,(135,81,203),3)\n",
    "    \n",
    "            \n",
    "            \n",
    "            \n",
    "            \n",
    "            \n",
    "    cv2.imshow(\"Image\",img)\n",
    "    cv2.waitKey(1)\n",
    "    "
   ]
  },
  {
   "cell_type": "code",
   "execution_count": null,
   "id": "3d7a79f1",
   "metadata": {},
   "outputs": [],
   "source": []
  },
  {
   "cell_type": "code",
   "execution_count": null,
   "id": "32f91c9f",
   "metadata": {},
   "outputs": [],
   "source": []
  },
  {
   "cell_type": "code",
   "execution_count": null,
   "id": "e5bc46e0",
   "metadata": {},
   "outputs": [],
   "source": []
  },
  {
   "cell_type": "code",
   "execution_count": null,
   "id": "9973c20b",
   "metadata": {},
   "outputs": [],
   "source": []
  },
  {
   "cell_type": "code",
   "execution_count": null,
   "id": "ce808aab",
   "metadata": {},
   "outputs": [],
   "source": []
  },
  {
   "cell_type": "code",
   "execution_count": null,
   "id": "6cdb16e1",
   "metadata": {},
   "outputs": [],
   "source": []
  },
  {
   "cell_type": "code",
   "execution_count": null,
   "id": "adfabd5c",
   "metadata": {},
   "outputs": [],
   "source": []
  }
 ],
 "metadata": {
  "kernelspec": {
   "display_name": "Python 3",
   "language": "python",
   "name": "python3"
  },
  "language_info": {
   "codemirror_mode": {
    "name": "ipython",
    "version": 3
   },
   "file_extension": ".py",
   "mimetype": "text/x-python",
   "name": "python",
   "nbconvert_exporter": "python",
   "pygments_lexer": "ipython3",
   "version": "3.8.8"
  }
 },
 "nbformat": 4,
 "nbformat_minor": 5
}
